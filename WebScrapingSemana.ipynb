{
 "cells": [
  {
   "cell_type": "markdown",
   "id": "b4172800",
   "metadata": {},
   "source": [
    "### Paso 1: Importación de variables"
   ]
  },
  {
   "cell_type": "code",
   "execution_count": null,
   "id": "872e5ca4",
   "metadata": {},
   "outputs": [],
   "source": [
    "import pandas as pd\n",
    "import time\n",
    "import random\n",
    "import undetected_chromedriver as uc\n",
    "from selenium import webdriver\n",
    "from selenium.webdriver.common.keys import Keys\n",
    "from selenium.webdriver.common.by import By\n",
    "from selenium.webdriver.chrome.options import Options\n",
    "from selenium.webdriver.chrome.service import Service\n",
    "from webdriver_manager.chrome import ChromeDriverManager\n",
    "from selenium.common.exceptions import NoSuchElementException\n",
    "from selenium.webdriver.support.ui import WebDriverWait\n",
    "from selenium.webdriver.support import expected_conditions as EC\n",
    "from random import shuffle"
   ]
  },
  {
   "cell_type": "markdown",
   "id": "3a4c7f06",
   "metadata": {},
   "source": [
    "### Paso 2: Definición de opciones para el navegador"
   ]
  },
  {
   "cell_type": "code",
   "execution_count": null,
   "id": "972ee65d",
   "metadata": {},
   "outputs": [],
   "source": [
    "chrome_options = Options()\n",
    "chrome_options.add_argument('--no-sandbox')\n",
    "chrome_options.add_argument(\"--start-maximized\")\n",
    "chrome_options.add_argument('--window-size=1420,1080')\n",
    "chrome_options.add_argument('--disable-dev-shm-usage')\n",
    "chrome_options.add_argument('--disable-gpu')\n",
    "chrome_options.add_argument(\"--disable-notifications\")\n",
    "chrome_options.add_argument(\"--remote-debugging-port=9222\")\n",
    "chrome_options.add_experimental_option(\"excludeSwitches\", [\"enable-automation\"])\n",
    "chrome_options.add_experimental_option('useAutomationExtension', False)\n",
    "chrome_options.add_experimental_option(\"excludeSwitches\", [\"disable-popup-blocking\"])"
   ]
  },
  {
   "cell_type": "markdown",
   "id": "020ff1d7",
   "metadata": {},
   "source": [
    "### Paso 3: Estructuración del WebScraping para captura de links"
   ]
  },
  {
   "cell_type": "code",
   "execution_count": null,
   "id": "21971814",
   "metadata": {},
   "outputs": [],
   "source": [
    "# PASO 3.1: Definición de variables para captura de información -----------------------------------------------------------------------#\n",
    "headers = []\n",
    "headers_text = []\n",
    "headers_link = []\n",
    "all_news = []\n",
    "\n",
    "# PASO 3.1.1 Definición de frases de interés a consultar (serviran para iteración en ciclo) -------------------------------------------#\n",
    "phrases_of_interest = [\n",
    "    'Cambio climático',\n",
    "    'Recalentamiento global',\n",
    "    'Emisiones de CO2',\n",
    "    'Gases de efecto invernadero (GEI)',\n",
    "    'Temperatura'\n",
    "    'Oleada de calor',\n",
    "    'Muerte por calor',\n",
    "    'Contaminación del aire',\n",
    "    'Calidad del aire',\n",
    "    'Polución',\n",
    "    'Descontaminación',\n",
    "    'Contaminación del agua',\n",
    "    'Acidificación del océano',\n",
    "    'Desastre ambiental',\n",
    "    'Catástrofe ambiental',\n",
    "    'Deforestación',\n",
    "    'Reforestación',\n",
    "    'Tala de árboles',\n",
    "    'Siembra de árboles',\n",
    "    'Reciclaje',\n",
    "    'Economía circular',\n",
    "    'Matriz energética',\n",
    "    'Energía limpia',\n",
    "    'Energía renovable',\n",
    "    'Energías alternativas',\n",
    "    'Energías verdes',\n",
    "    'Derecho ambiental',\n",
    "    'Regulación ambiental',\n",
    "    'Normativa ambiental',\n",
    "    'Convención Marco de las Naciones Unidas sobre Cambio Climático,',\n",
    "    'Acuerdo de París',\n",
    "    'Protocolo de Tokio',\n",
    "    'Transición energética',\n",
    "    'Sostenibilidad ambiental',\n",
    "    'Refugiado climático ',\n",
    "    'Estrategia 2050'\n",
    "]"
   ]
  },
  {
   "cell_type": "code",
   "execution_count": null,
   "id": "aed78c85",
   "metadata": {},
   "outputs": [],
   "source": [
    "# PASO 3.2: Aviso para el usuario final de que se inicio el web-scraping --------------------------------------------------------------#\n",
    "print(\"Se inició el Web Scraping a 'Semana', por favor espere...\") # Mensaje para visualización del inicio del proceso"
   ]
  },
  {
   "cell_type": "code",
   "execution_count": null,
   "id": "4861c440",
   "metadata": {},
   "outputs": [],
   "source": [
    "# PASO 3.3: Estructura base para acceder a la página en cuestión ----------------------------------------------------------------------#\n",
    "service = Service(executable_path=r'../chromedriver-win64/chromedriver.exe') # Creación del servicio mediante el driver\n",
    "options = webdriver.ChromeOptions() # Definición de variable con las opciones para chrome\n",
    "driver = webdriver.Chrome(service=service, options=options) # Creación del objeto del WebDriver\n",
    "driver.get(\"https://www.semana.com/\") # Página principal\n",
    "time.sleep(random.randrange(1,5)) # Simulación de comportamiento humano"
   ]
  },
  {
   "cell_type": "code",
   "execution_count": null,
   "id": "958ba9a7",
   "metadata": {},
   "outputs": [],
   "source": [
    "# PASO 3.4: Estructura base para acceder a la página en cuestión ----------------------------------------------------------------------#\n",
    "button_xpath = '//*[@id=\"fusion-app\"]/div/header/div[3]/div[4]/div/div[1]/div[1]/div[1]/div[1]/div/label' # xpath del botón\n",
    "menu_button = driver.find_element(By.XPATH, button_xpath) # Botón de lupa (sidebar)\n",
    "menu_button.click(); # Acción de click en el botón\n",
    "time.sleep(random.randrange(1,5)) # Simulación de comportamiento humano"
   ]
  },
  {
   "cell_type": "code",
   "execution_count": null,
   "id": "34d1a4c3",
   "metadata": {},
   "outputs": [],
   "source": [
    "# PASO 3.5: Ubicación y selección del campo para búsqueda -----------------------------------------------------------------------------#\n",
    "search_bar = driver.find_element(By.XPATH, '//*[@id=\"queryly_query\"]') # Campo de búsqueda (ventana emergente)"
   ]
  },
  {
   "cell_type": "code",
   "execution_count": null,
   "id": "951d78eb",
   "metadata": {},
   "outputs": [],
   "source": [
    "# PASO 3.6: Ciclo para iterar sobre las frases de interés en el campo para búsqueda ---------------------------------------------------#\n",
    "for phrases in phrases_of_interest:\n",
    "    search_bar.clear() # Limpieza del campo\n",
    "    search_bar.send_keys(phrases) # Envío de la frase de interés al campo de búsqueda\n",
    "    time.sleep(random.randrange(3,5)) # Simulación de comportamiento humano\n",
    "    search_bar.send_keys(Keys.RETURN) # Envío de consulta (Enter)    \n",
    "    \n",
    "    # 3.6.1 Control de excepción en caso dado que el filtro de \"Medio ambiente\" no esté presente en la página\n",
    "    try:\n",
    "        # Si está presente el filtro se aplica\n",
    "        css_selector = 'div.filter_item[data-filter-value=\"Medio ambiente\"] a' # Definición del css del filtro\n",
    "        filter_button = driver.find_element(By.CSS_SELECTOR, css_selector) # Intento de encontrar el botón para aplicar el filtro\n",
    "        filter_button.click() # Acción de click en el botón\n",
    "    except NoSuchElementException:\n",
    "        pass # Si NO está presente el filtro NO se aplica y la iteración continua\n",
    "    \n",
    "    \n",
    "    # \n",
    "    # Código que captura los links\n",
    "    #\n",
    "\n",
    "    # 3.6.x Repetición del proceso de búsqueda\n",
    "    button_xpath = '//*[@id=\"fusion-app\"]/div/header/div[2]/div[3]/div/div[1]/div[1]/div[1]/div[1]/div/label' # xpath del botón\n",
    "    menu_button = driver.find_element(By.XPATH, button_xpath) # Botón de lupa (sidebar)\n",
    "    menu_button.click(); # Acción de click en el botón\n",
    "    time.sleep(random.randrange(1,5)) # Simulación de comportamiento humano\n",
    "    search_bar = driver.find_element(By.XPATH, '//*[@id=\"queryly_query\"]') # Campo de búsqueda (ventana emergente)\n",
    "    \n",
    "    time.sleep(random.randrange(3,5)) # Simulación de comportamiento humano\n"
   ]
  },
  {
   "cell_type": "code",
   "execution_count": null,
   "id": "7bbe74da",
   "metadata": {},
   "outputs": [],
   "source": [
    "driver.quit()"
   ]
  }
 ],
 "metadata": {
  "kernelspec": {
   "display_name": "Python 3 (ipykernel)",
   "language": "python",
   "name": "python3"
  },
  "language_info": {
   "codemirror_mode": {
    "name": "ipython",
    "version": 3
   },
   "file_extension": ".py",
   "mimetype": "text/x-python",
   "name": "python",
   "nbconvert_exporter": "python",
   "pygments_lexer": "ipython3",
   "version": "3.10.13"
  }
 },
 "nbformat": 4,
 "nbformat_minor": 5
}
