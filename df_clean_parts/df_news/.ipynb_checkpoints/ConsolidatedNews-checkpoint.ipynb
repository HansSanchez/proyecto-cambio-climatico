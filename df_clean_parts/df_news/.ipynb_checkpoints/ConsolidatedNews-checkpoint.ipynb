{
 "cells": [
  {
   "cell_type": "code",
   "execution_count": null,
   "id": "b9d92b55",
   "metadata": {},
   "outputs": [],
   "source": [
    "# Importación de librerias\n",
    "import pandas as pd\n",
    "\n",
    "# Definición de la clase\n",
    "class ImportClass:\n",
    "    \n",
    "    # Función inicial o constructor\n",
    "    def __init__(self):\n",
    "        # lectura de los archivos\n",
    "            ## encoding='utf-8' es por los caracteres especiales que puede tener los datos\n",
    "        self.df_new_1 = pd.read_csv(r'df_news_1.csv', encoding='utf-8') \n",
    "        self.df_new_2 = pd.read_csv(r'df_news_2.csv', encoding='utf-8')"
   ]
  },
  {
   "cell_type": "code",
   "execution_count": null,
   "id": "9e94b7a6",
   "metadata": {},
   "outputs": [],
   "source": [
    "# 1.1 Instancia del objeto\n",
    "IC = ImportClass()"
   ]
  }
 ],
 "metadata": {
  "kernelspec": {
   "display_name": "Python 3 (ipykernel)",
   "language": "python",
   "name": "python3"
  },
  "language_info": {
   "codemirror_mode": {
    "name": "ipython",
    "version": 3
   },
   "file_extension": ".py",
   "mimetype": "text/x-python",
   "name": "python",
   "nbconvert_exporter": "python",
   "pygments_lexer": "ipython3",
   "version": "3.10.9"
  }
 },
 "nbformat": 4,
 "nbformat_minor": 5
}
