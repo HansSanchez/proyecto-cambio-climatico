{
 "cells": [
  {
   "cell_type": "code",
   "execution_count": 1,
   "id": "872e5ca4",
   "metadata": {},
   "outputs": [],
   "source": [
    "# Importación de librerias\n",
    "from selenium import webdriver\n",
    "import undetected_chromedriver as uc\n",
    "from selenium.webdriver.common.keys import Keys\n",
    "from selenium.webdriver.common.by import By\n",
    "from selenium.webdriver.chrome.options import Options\n",
    "from selenium.webdriver.chrome.service import Service\n",
    "from webdriver_manager.chrome import ChromeDriverManager\n",
    "from selenium.common.exceptions import NoSuchElementException\n",
    "from selenium.webdriver.support.ui import WebDriverWait\n",
    "from selenium.webdriver.support import expected_conditions as EC\n",
    "from random import shuffle\n",
    "import pandas as pd\n",
    "import time\n",
    "import random\n",
    "\n",
    "# Opciones del navegador\n",
    "chrome_options = Options()\n",
    "chrome_options.add_argument('--no-sandbox')\n",
    "# chrome_options.add_argument('--headless')\n",
    "chrome_options.add_argument(\"--start-maximized\")\n",
    "chrome_options.add_argument('--window-size=1420,1080')\n",
    "chrome_options.add_argument('--disable-dev-shm-usage')\n",
    "chrome_options.add_argument('--disable-gpu')\n",
    "chrome_options.add_argument(\"--disable-notifications\")\n",
    "chrome_options.add_argument(\"--remote-debugging-port=9222\")\n",
    "chrome_options.add_experimental_option(\"excludeSwitches\", [\"enable-automation\"])\n",
    "chrome_options.add_experimental_option('useAutomationExtension', False)\n",
    "chrome_options.add_experimental_option(\"excludeSwitches\", [\"disable-popup-blocking\"])"
   ]
  },
  {
   "cell_type": "code",
   "execution_count": 2,
   "id": "b234fa81",
   "metadata": {},
   "outputs": [],
   "source": [
    "# Clase para personalización\n",
    "class bcolors:\n",
    "    WARNING = '\\033[93m'\n",
    "    FAIL = '\\033[91m'\n",
    "\n",
    "# Control de errores\n",
    "try:   \n",
    "    # Definición de función\n",
    "    def Seconds(result):\n",
    "        hours = round(result/3600)\n",
    "        minutes = round((result - (hours * 3600))/60)\n",
    "        seconds = round(result - ((hours * 3600) + (minutes * 60)))\n",
    "        if seconds < 0: seconds = seconds*-1\n",
    "        if minutes < 0: minutes = minutes*-1\n",
    "        final_time = \"El sitema tardó: \" + str(hours) + \" horas \" + str(minutes) + \" minutos \" + str(seconds) + \" segundos en finalizar su ejeción\"\n",
    "        return final_time\n",
    "    \n",
    "except Exception as e: \n",
    "    print(bcolors.FAIL + \"Revisa el error => \", e) # Impresión del error personalizado"
   ]
  },
  {
   "cell_type": "code",
   "execution_count": 6,
   "id": "21971814",
   "metadata": {},
   "outputs": [
    {
     "name": "stdout",
     "output_type": "stream",
     "text": [
      "Se inició el Web Scraping a 'Semana', por favor espere...\n"
     ]
    },
    {
     "ename": "TypeError",
     "evalue": "WebDriver.__init__() got an unexpected keyword argument 'executable_path'",
     "output_type": "error",
     "traceback": [
      "\u001b[1;31m---------------------------------------------------------------------------\u001b[0m",
      "\u001b[1;31mTypeError\u001b[0m                                 Traceback (most recent call last)",
      "Cell \u001b[1;32mIn[6], line 21\u001b[0m\n\u001b[0;32m     15\u001b[0m driver \u001b[38;5;241m=\u001b[39m webdriver\u001b[38;5;241m.\u001b[39mChrome(\n\u001b[0;32m     16\u001b[0m     service \u001b[38;5;241m=\u001b[39m Service(executable_path\u001b[38;5;241m=\u001b[39m\u001b[38;5;124mr\u001b[39m\u001b[38;5;124m'\u001b[39m\u001b[38;5;124m../chromedriver-win64/chromedriver.exe\u001b[39m\u001b[38;5;124m'\u001b[39m),\n\u001b[0;32m     17\u001b[0m     options \u001b[38;5;241m=\u001b[39m chrome_options\n\u001b[0;32m     18\u001b[0m )\n\u001b[0;32m     20\u001b[0m \u001b[38;5;66;03m# Ocultamiento al navegador del uso del driver\u001b[39;00m\n\u001b[1;32m---> 21\u001b[0m driver \u001b[38;5;241m=\u001b[39m \u001b[43muc\u001b[49m\u001b[38;5;241;43m.\u001b[39;49m\u001b[43mChrome\u001b[49m\u001b[43m(\u001b[49m\u001b[43m)\u001b[49m\n\u001b[0;32m     23\u001b[0m \u001b[38;5;66;03m# Página principal\u001b[39;00m\n\u001b[0;32m     24\u001b[0m driver\u001b[38;5;241m.\u001b[39mget(\u001b[38;5;124m\"\u001b[39m\u001b[38;5;124mhttps://www.semana.com/\u001b[39m\u001b[38;5;124m\"\u001b[39m)\n",
      "File \u001b[1;32m~\\AppData\\Local\\anaconda3\\lib\\site-packages\\undetected_chromedriver\\__init__.py:453\u001b[0m, in \u001b[0;36mChrome.__init__\u001b[1;34m(self, options, user_data_dir, driver_executable_path, browser_executable_path, port, enable_cdp_events, service_args, service_creationflags, desired_capabilities, advanced_elements, service_log_path, keep_alive, log_level, headless, version_main, patcher_force_close, suppress_welcome, use_subprocess, debug, no_sandbox, user_multi_procs, **kw)\u001b[0m\n\u001b[0;32m    450\u001b[0m \u001b[38;5;28;01melse\u001b[39;00m:\n\u001b[0;32m    451\u001b[0m     service \u001b[38;5;241m=\u001b[39m \u001b[38;5;28;01mNone\u001b[39;00m\n\u001b[1;32m--> 453\u001b[0m \u001b[38;5;28;43msuper\u001b[39;49m\u001b[43m(\u001b[49m\u001b[43mChrome\u001b[49m\u001b[43m,\u001b[49m\u001b[43m \u001b[49m\u001b[38;5;28;43mself\u001b[39;49m\u001b[43m)\u001b[49m\u001b[38;5;241;43m.\u001b[39;49m\u001b[38;5;21;43m__init__\u001b[39;49m\u001b[43m(\u001b[49m\n\u001b[0;32m    454\u001b[0m \u001b[43m    \u001b[49m\u001b[43mexecutable_path\u001b[49m\u001b[38;5;241;43m=\u001b[39;49m\u001b[38;5;28;43mself\u001b[39;49m\u001b[38;5;241;43m.\u001b[39;49m\u001b[43mpatcher\u001b[49m\u001b[38;5;241;43m.\u001b[39;49m\u001b[43mexecutable_path\u001b[49m\u001b[43m,\u001b[49m\n\u001b[0;32m    455\u001b[0m \u001b[43m    \u001b[49m\u001b[43mport\u001b[49m\u001b[38;5;241;43m=\u001b[39;49m\u001b[43mport\u001b[49m\u001b[43m,\u001b[49m\n\u001b[0;32m    456\u001b[0m \u001b[43m    \u001b[49m\u001b[43moptions\u001b[49m\u001b[38;5;241;43m=\u001b[39;49m\u001b[43moptions\u001b[49m\u001b[43m,\u001b[49m\n\u001b[0;32m    457\u001b[0m \u001b[43m    \u001b[49m\u001b[43mservice_args\u001b[49m\u001b[38;5;241;43m=\u001b[39;49m\u001b[43mservice_args\u001b[49m\u001b[43m,\u001b[49m\n\u001b[0;32m    458\u001b[0m \u001b[43m    \u001b[49m\u001b[43mdesired_capabilities\u001b[49m\u001b[38;5;241;43m=\u001b[39;49m\u001b[43mdesired_capabilities\u001b[49m\u001b[43m,\u001b[49m\n\u001b[0;32m    459\u001b[0m \u001b[43m    \u001b[49m\u001b[43mservice_log_path\u001b[49m\u001b[38;5;241;43m=\u001b[39;49m\u001b[43mservice_log_path\u001b[49m\u001b[43m,\u001b[49m\n\u001b[0;32m    460\u001b[0m \u001b[43m    \u001b[49m\u001b[43mkeep_alive\u001b[49m\u001b[38;5;241;43m=\u001b[39;49m\u001b[43mkeep_alive\u001b[49m\u001b[43m,\u001b[49m\n\u001b[0;32m    461\u001b[0m \u001b[43m    \u001b[49m\u001b[43mservice\u001b[49m\u001b[38;5;241;43m=\u001b[39;49m\u001b[43mservice\u001b[49m\u001b[43m,\u001b[49m\u001b[43m  \u001b[49m\u001b[38;5;66;43;03m# needed or the service will be re-created\u001b[39;49;00m\n\u001b[0;32m    462\u001b[0m \u001b[43m\u001b[49m\u001b[43m)\u001b[49m\n\u001b[0;32m    464\u001b[0m \u001b[38;5;28mself\u001b[39m\u001b[38;5;241m.\u001b[39mreactor \u001b[38;5;241m=\u001b[39m \u001b[38;5;28;01mNone\u001b[39;00m\n\u001b[0;32m    466\u001b[0m \u001b[38;5;28;01mif\u001b[39;00m enable_cdp_events:\n",
      "\u001b[1;31mTypeError\u001b[0m: WebDriver.__init__() got an unexpected keyword argument 'executable_path'"
     ]
    }
   ],
   "source": [
    "# Definición de variables\n",
    "headers = []\n",
    "headers_text = []\n",
    "headers_link = []\n",
    "all_news = []\n",
    "\n",
    "\n",
    "# Mensaje para visualización del inicio del proceso\n",
    "print(\"Se inició el Web Scraping a 'Semana', por favor espere...\")\n",
    "\n",
    "# Variable para definir el inicio de tiempo en ejecución\n",
    "start = time.time()\n",
    "\n",
    "# Acceso a la página\n",
    "driver = webdriver.Chrome(\n",
    "    service = Service(executable_path=r'../chromedriver-win64/chromedriver.exe'),\n",
    "    options = chrome_options\n",
    ")\n",
    "\n",
    "# Ocultamiento al navegador del uso del driver\n",
    "driver = uc.Chrome()\n",
    "\n",
    "# Página principal\n",
    "driver.get(\"https://www.semana.com/\")\n",
    "\n",
    "# Simulación de comportamiento humano\n",
    "time.sleep(random.randrange(7,12))\n",
    "\n",
    "# Botón de lupa (sidebar)\n",
    "menu_button = driver.find_element(By.XPATH, '//*[@id=\"fusion-app\"]/div/header/div[3]/div[4]/div/div[1]/div[1]/div[1]/div[1]/div/label')\n",
    "menu_button.click();\n",
    "\n",
    "# Simulación de comportamiento humano\n",
    "time.sleep(random.randrange(7,12))\n",
    "\n",
    "# Campo de búsqueda (ventana emergente)\n",
    "search_bar = driver.find_element(By.XPATH, '//*[@id=\"queryly_query\"]')\n",
    "search_bar.clear()\n",
    "search_bar.send_keys(\"interest\")"
   ]
  },
  {
   "cell_type": "code",
   "execution_count": 4,
   "id": "49b68142",
   "metadata": {},
   "outputs": [],
   "source": [
    "service = Service(executable_path=r'../chromedriver-win64/chromedriver.exe')\n",
    "driver = webdriver.Chrome(service=service)"
   ]
  }
 ],
 "metadata": {
  "kernelspec": {
   "display_name": "Python 3 (ipykernel)",
   "language": "python",
   "name": "python3"
  },
  "language_info": {
   "codemirror_mode": {
    "name": "ipython",
    "version": 3
   },
   "file_extension": ".py",
   "mimetype": "text/x-python",
   "name": "python",
   "nbconvert_exporter": "python",
   "pygments_lexer": "ipython3",
   "version": "3.10.13"
  }
 },
 "nbformat": 4,
 "nbformat_minor": 5
}
