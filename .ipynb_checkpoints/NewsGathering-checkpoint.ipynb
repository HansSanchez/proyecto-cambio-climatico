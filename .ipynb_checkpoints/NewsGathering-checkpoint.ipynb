{
 "cells": [
  {
   "cell_type": "markdown",
   "id": "f2858584",
   "metadata": {},
   "source": [
    "# Parte 3: Recolección de información\n",
    "### Web Scraping a \"Semana\" para investigación referente a los cambios climáticos en Colombia"
   ]
  },
  {
   "cell_type": "markdown",
   "id": "cf39270d",
   "metadata": {},
   "source": [
    "### Paso 1: Importación de librerias"
   ]
  },
  {
   "cell_type": "code",
   "execution_count": null,
   "id": "a780186b",
   "metadata": {},
   "outputs": [],
   "source": [
    "import pandas as pd\n",
    "import time\n",
    "import random\n",
    "from selenium import webdriver\n",
    "from selenium.webdriver.common.keys import Keys\n",
    "from selenium.webdriver.common.by import By\n",
    "from selenium.webdriver.chrome.options import Options\n",
    "from selenium.webdriver.chrome.service import Service\n",
    "from selenium.common.exceptions import NoSuchElementException\n",
    "from selenium.common.exceptions import TimeoutException\n",
    "from selenium.webdriver.support import expected_conditions as EC\n",
    "from random import shuffle"
   ]
  },
  {
   "cell_type": "markdown",
   "id": "926c0808",
   "metadata": {},
   "source": [
    "### Paso 2: Definición de opciones para el navegador"
   ]
  },
  {
   "cell_type": "code",
   "execution_count": null,
   "id": "abdddcae",
   "metadata": {},
   "outputs": [],
   "source": [
    "chrome_options = Options()\n",
    "chrome_options.add_argument('--no-sandbox')\n",
    "chrome_options.add_argument(\"--start-maximized\")\n",
    "chrome_options.add_argument('--window-size=1420,1080')\n",
    "chrome_options.add_argument('--disable-dev-shm-usage')\n",
    "chrome_options.add_argument('--disable-gpu')\n",
    "chrome_options.add_argument(\"--disable-notifications\")\n",
    "chrome_options.add_argument(\"--remote-debugging-port=9222\")\n",
    "chrome_options.add_experimental_option(\"excludeSwitches\", [\"enable-automation\"])\n",
    "chrome_options.add_experimental_option('useAutomationExtension', False)\n",
    "chrome_options.add_experimental_option(\"excludeSwitches\", [\"disable-popup-blocking\"])"
   ]
  },
  {
   "cell_type": "markdown",
   "id": "be578028",
   "metadata": {},
   "source": [
    "### Paso 3: Definición de clase personalizada"
   ]
  },
  {
   "cell_type": "code",
   "execution_count": null,
   "id": "a8a2d702",
   "metadata": {},
   "outputs": [],
   "source": [
    "# Clase para personalización\n",
    "class bcolors:\n",
    "    WARNING = '\\033[93m'\n",
    "    FAIL = '\\033[91m'\n",
    "\n",
    "# Control de errores\n",
    "try:   \n",
    "    # Definición de función\n",
    "    def Seconds(result):\n",
    "        hours = round(result/3600)\n",
    "        minutes = round((result - (hours * 3600))/60)\n",
    "        seconds = round(result - ((hours * 3600) + (minutes * 60)))\n",
    "        if seconds < 0: seconds = seconds*-1\n",
    "        if minutes < 0: minutes = minutes*-1\n",
    "        final_time = \"El sitema tardó: \" + str(hours) + \" horas \" + str(minutes) + \" minutos \" + str(seconds) + \" segundos en finalizar su ejeción\"\n",
    "        return final_time\n",
    "    \n",
    "except Exception as e: \n",
    "    print(bcolors.FAIL + \"Revisa el error => \", e) # Impresión del error personalizado"
   ]
  },
  {
   "cell_type": "markdown",
   "id": "942e05be",
   "metadata": {},
   "source": [
    "### Paso 4: Lectura de archivo de noticias"
   ]
  },
  {
   "cell_type": "code",
   "execution_count": null,
   "id": "20a1edd0",
   "metadata": {},
   "outputs": [],
   "source": [
    "# Definición de la clase\n",
    "class IterableClass:\n",
    "    \n",
    "    # Función inicial o constructor\n",
    "    def __init__(self, list_values = None): # None es para que sea opcional\n",
    "        self.list_values = list_values\n",
    "        self.dateframe = pd.read_csv(r'df_consolidated_clean.csv') # lectura del archivo\n",
    "        self.i = 0\n",
    "        \n",
    "    # Retornar un iterador\n",
    "    def __iter__(self):\n",
    "        return self\n",
    "    \n",
    "    # Retorna un elemento del contenedor\n",
    "    def __next__(self):\n",
    "        if self.i >= len(self.list_values):\n",
    "            print(\"\\nNo hay más valores a recorrer... ⬇\")\n",
    "            raise StopIteration\n",
    "            \n",
    "        item = self.list_values[self.i]\n",
    "        self.i += 1\n",
    "        return item  "
   ]
  },
  {
   "cell_type": "markdown",
   "id": "159b6feb",
   "metadata": {},
   "source": [
    "### Paso 5: Instacia del objeto e impresión del DataFrame"
   ]
  },
  {
   "cell_type": "code",
   "execution_count": null,
   "id": "9b8d06de",
   "metadata": {},
   "outputs": [],
   "source": [
    "# Instancia del objeto\n",
    "IC = IterableClass()\n",
    "\n",
    "# 5.1. Eliminación de columna que se creo en por error \"Unnamed: 0\" .drop('Unnamed: 0', axis=1)\n",
    "# 5.2. Reseteo de index por la acción de combinación de DataFrames .reset_index().drop(['index'], axis=1)\n",
    "IC.dateframe.drop('Unnamed: 0', axis=1).reset_index().drop(['index'], axis=1)"
   ]
  },
  {
   "cell_type": "markdown",
   "id": "fa4490d6",
   "metadata": {},
   "source": [
    "### Paso 6: Definición de función para unificar los diferentes parrafos de la noticia"
   ]
  },
  {
   "cell_type": "code",
   "execution_count": null,
   "id": "a3ea9488",
   "metadata": {},
   "outputs": [],
   "source": [
    "def JoinParagraphs(paragraphs):\n",
    "    TextParagraphs = \"\"\n",
    "    for paragraph in paragraphs:\n",
    "        TextParagraphs = TextParagraphs + paragraph.text\n",
    "        \n",
    "    return TextParagraphs"
   ]
  },
  {
   "cell_type": "markdown",
   "id": "f59010d4",
   "metadata": {},
   "source": [
    "### Paso 7: Definición de función para unificar los diferentes temas de la noticia"
   ]
  },
  {
   "cell_type": "code",
   "execution_count": null,
   "id": "25f3ca0b",
   "metadata": {},
   "outputs": [],
   "source": [
    "def JoinThemes(themes):\n",
    "    TextThemes = \"\"\n",
    "    for theme in themes:\n",
    "        TextThemes = TextThemes + theme.text + \", \"\n",
    "    return TextThemes"
   ]
  },
  {
   "cell_type": "markdown",
   "id": "bb6af8cb",
   "metadata": {},
   "source": [
    "### Paso 8: Recolección de información para cada noticia"
   ]
  },
  {
   "cell_type": "code",
   "execution_count": null,
   "id": "849c1a62",
   "metadata": {},
   "outputs": [],
   "source": [
    "# 8.1 Declaraciones de variables\n",
    "titles = []\n",
    "summaries = []\n",
    "authors = []\n",
    "dates = []\n",
    "paragraphs = []\n",
    "themes = []"
   ]
  },
  {
   "cell_type": "code",
   "execution_count": null,
   "id": "d0442863",
   "metadata": {},
   "outputs": [],
   "source": [
    "# PASO 8.2: Aviso para el usuario final de que se inicio el web-scraping --------------------------------------------------------------#\n",
    "print(\"Se inició el Web Scraping a 'Semana', por favor espere...\") # Mensaje para visualización del inicio del proceso\n",
    "\n",
    "# 8.2.1 Variable para definir el inicio de tiempo en ejecución\n",
    "start = time.time()"
   ]
  },
  {
   "cell_type": "code",
   "execution_count": null,
   "id": "edddade0",
   "metadata": {
    "scrolled": true
   },
   "outputs": [],
   "source": [
    "# PASO 8.3 Estructura base para acceder a la página en cuestión ----------------------------------------------------------------------#\n",
    "service = Service(executable_path=r'../chromedriver-win64/chromedriver.exe') # Creación del servicio mediante el driver\n",
    "options = webdriver.ChromeOptions() # Definición de variable con las opciones para chrome\n",
    "driver = webdriver.Chrome(service=service, options=options) # Creación del objeto del WebDriver\n",
    "\n",
    "# Asignación de dataframe a una variable\n",
    "links = IC.dateframe\n",
    "\n",
    "# Control del error al momento de finalizar el páginado\n",
    "try:\n",
    "    \n",
    "    # Iteración para acceso a los links del dataframe\n",
    "    for i in range(len(links)):\n",
    "        \n",
    "        news = {\n",
    "            \"titles\" : [],\n",
    "            \"summaries\" : [],\n",
    "            \"authors\" : [],\n",
    "            \"dates\" : [],\n",
    "            \"paragraphs\" : [],\n",
    "            \"themes\" : [],\n",
    "        }\n",
    "        \n",
    "        # Acceso a cada link del dataframe\n",
    "        driver.get(links.iloc[i]['headers_link'])\n",
    "\n",
    "        # Títulos\n",
    "        # ****************************************************************************************************************\n",
    "        title = driver.find_elements(By.XPATH, '//*[@id=\"fusion-app\"]/div/main/article/div/div[2]/h1')\n",
    "        if title:\n",
    "            for i in title:\n",
    "                print(titles.append(i.text))\n",
    "        else: titles.append('...')\n",
    "        # ****************************************************************************************************************\n",
    "\n",
    "        # Resúmenes\n",
    "        # ****************************************************************************************************************\n",
    "        summary = driver.find_elements(By.XPATH, '//*[@id=\"fusion-app\"]/div/main/article/div/div[2]/p')\n",
    "        if summary: \n",
    "            for i in summary:\n",
    "                print(summaries.append(i.text))\n",
    "        else: summaries.append('...')\n",
    "        # ****************************************************************************************************************\n",
    "\n",
    "        # Autor\n",
    "        # ****************************************************************************************************************\n",
    "        author_a = driver.find_elements(By.XPATH, '//*[@id=\"fusion-app\"]/div/main/article/div/div[2]/div[2]/a/div')\n",
    "        date_a = driver.find_elements(By.XPATH, '//*[@id=\"fusion-app\"]/div/main/article/div/div[2]/div[2]/div')\n",
    "        if date_a: \n",
    "            if len(date_a) == 1:\n",
    "                if author_a:\n",
    "                    for i in author_a:\n",
    "                        print(authors.append(i.text))\n",
    "                else: authors.append('...')\n",
    "            elif len(author_a) > 1:\n",
    "                author_b = driver.find_elements(By.XPATH, '//*[@id=\"fusion-app\"]/div/main/article/div/div[2]/div[2]/div[1]')\n",
    "                if author_b:\n",
    "                    for i in author_b:\n",
    "                        print(authors.append(i.text))\n",
    "                else: authors.append('...')\n",
    "        else: authors.append('...')\n",
    "        # ****************************************************************************************************************\n",
    "\n",
    "        # Fecha\n",
    "        # ****************************************************************************************************************\n",
    "        date_a = driver.find_elements(By.XPATH, '//*[@id=\"fusion-app\"]/div/main/article/div/div[2]/div[2]/div')\n",
    "        if date_a: \n",
    "            if len(date_a) == 1:\n",
    "                if date_a:\n",
    "                    for i in date_a:\n",
    "                        print(dates.append(i.text))\n",
    "                else: dates.append('...')\n",
    "            elif len(date_a) > 1:\n",
    "                date_b = driver.find_elements(By.XPATH, '//*[@id=\"fusion-app\"]/div/main/article/div/div[2]/div[2]/div[2]')\n",
    "                if date_b:\n",
    "                    for i in date_b:\n",
    "                        print(dates.append(i.text))\n",
    "                else: dates.append('...')\n",
    "        else: dates.append('...')\n",
    "        # ****************************************************************************************************************\n",
    "        \n",
    "\n",
    "        # Parrafos\n",
    "        # ****************************************************************************************************************\n",
    "        paragraphs_a = driver.find_elements(By.CLASS_NAME, 'prose')\n",
    "        if paragraphs_a: \n",
    "            if len(paragraphs_a) > 1:\n",
    "                paragraphs.append(JoinParagraphs(paragraphs_a))\n",
    "            else:\n",
    "                paragraphs.append(paragraphs_a[0].text)\n",
    "        else: paragraphs.append('...')\n",
    "        # ****************************************************************************************************************\n",
    "\n",
    "        # Temas\n",
    "        # ****************************************************************************************************************\n",
    "        tags = driver.find_elements(By.CSS_SELECTOR, 'a.inline-block')\n",
    "        if tags: \n",
    "            if len(tags) > 1:\n",
    "                themes.append(JoinThemes(tags))\n",
    "            else:\n",
    "                themes.append(tags[0].text)\n",
    "        else: themes.append('...')\n",
    "        # ****************************************************************************************************************\n",
    "                \n",
    "        # Construcción del diccionario \n",
    "        news = {\n",
    "            \"titles\" : titles,\n",
    "            \"summaries\" : summaries,\n",
    "            \"authors\" : authors,\n",
    "            \"dates\" : dates,\n",
    "            \"paragraphs\" : paragraphs,\n",
    "            \"themes\" : themes\n",
    "        }\n",
    "\n",
    "        # Construcción inicial del dataframe\n",
    "        df = pd.DataFrame(news)\n",
    "\n",
    "        # (Opcional) Modo DEBUG, sirve para validar como el DataFrame se está llenando según las iteraciones\n",
    "        display(df)\n",
    "    else:\n",
    "        driver.quit();\n",
    "        \n",
    "except Exception as e:\n",
    "    display(\"Exception :\", e)\n",
    "    driver.quit() \n",
    "except NoSuchElementException as nse:\n",
    "    display(\"NoSuchElementException :\", nse)\n",
    "    driver.quit()\n",
    "except TimeoutException as tim:\n",
    "    display(\"TimeoutException :\", tim)\n",
    "    driver.quit()"
   ]
  },
  {
   "cell_type": "code",
   "execution_count": null,
   "id": "efdb96b8",
   "metadata": {},
   "outputs": [],
   "source": [
    "df_news_clean = df.drop_duplicates(subset=[\"titles\"])"
   ]
  },
  {
   "cell_type": "code",
   "execution_count": null,
   "id": "56b593c8",
   "metadata": {},
   "outputs": [],
   "source": [
    "df_news_clean.to_csv(\"df_news_clean.csv\")"
   ]
  },
  {
   "cell_type": "code",
   "execution_count": null,
   "id": "2a97451c",
   "metadata": {},
   "outputs": [],
   "source": [
    "# Variable para definir el final de tiempo en ejecución\n",
    "end = time.time()\n",
    "\n",
    "# Variable para calcular tiempo y para enviar a la función\n",
    "result = end-start\n",
    "\n",
    "#Impresión del tiempo que tardó\n",
    "print(Seconds(result))"
   ]
  },
  {
   "cell_type": "code",
   "execution_count": null,
   "id": "78d57a11",
   "metadata": {},
   "outputs": [],
   "source": [
    "df_news_clean"
   ]
  }
 ],
 "metadata": {
  "kernelspec": {
   "display_name": "Python 3 (ipykernel)",
   "language": "python",
   "name": "python3"
  },
  "language_info": {
   "codemirror_mode": {
    "name": "ipython",
    "version": 3
   },
   "file_extension": ".py",
   "mimetype": "text/x-python",
   "name": "python",
   "nbconvert_exporter": "python",
   "pygments_lexer": "ipython3",
   "version": "3.10.13"
  }
 },
 "nbformat": 4,
 "nbformat_minor": 5
}
